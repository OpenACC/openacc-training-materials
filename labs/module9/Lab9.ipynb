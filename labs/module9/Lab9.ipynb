{
 "metadata": {
  "kernelspec": {
   "display_name": "Python 3",
   "language": "python",
   "name": "python3"
  },
  "language_info": {
   "codemirror_mode": {
    "name": "ipython",
    "version": 3
   },
   "file_extension": ".py",
   "mimetype": "text/x-python",
   "name": "python",
   "nbconvert_exporter": "python",
   "pygments_lexer": "ipython3",
   "version": "3.4.3"
  },
  "name": "",
  "signature": "sha256:e3aaefeb1903acac504074fae98982ecbe8aeb7f1cf63e128d0dd2c38340b362"
 },
 "nbformat": 3,
 "nbformat_minor": 0,
 "worksheets": [
  {
   "cells": [
    {
     "cell_type": "heading",
     "level": 1,
     "metadata": {},
     "source": [
      "Multi-Device Programming with OpenACC (and OpenMP/MPI)"
     ]
    },
    {
     "cell_type": "markdown",
     "metadata": {},
     "source": [
      "There are two versions of this lab. Click [here](./C/Lab9_C.ipynb) if you prefer to code in C/C++. Click [here](./Fortran/Lab9_Fortran.ipynb) if you prefer to code in Fortran."
     ]
    }
   ],
   "metadata": {}
  }
 ]
}