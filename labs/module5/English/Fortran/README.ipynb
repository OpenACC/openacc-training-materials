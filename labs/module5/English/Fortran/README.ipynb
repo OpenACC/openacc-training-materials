{
 "cells": [
  {
   "cell_type": "markdown",
   "metadata": {},
   "source": [
    "# Data Management with OpenACC"
   ]
  },
  {
   "cell_type": "markdown",
   "metadata": {},
   "source": [
    "This version of the lab is intended for Fortran programmers. The C/C++ version of this lab is available [here](../C/README.ipynb)."
   ]
  },
  {
   "cell_type": "markdown",
   "metadata": {},
   "source": [
    "You will receive a warning five minutes before the lab instance shuts down. Remember to save your work! If you are about to run out of time, please see the [Post-Lab](#Post-Lab-Summary) section for saving this lab to view offline later."
   ]
  },
  {
   "cell_type": "markdown",
   "metadata": {},
   "source": [
    "---\n",
    "Let's execute the cell below to display information about the GPUs running on the server. To do this, execute the cell block below by giving it focus (clicking on it with your mouse), and hitting Ctrl-Enter, or pressing the play button in the toolbar above.  If all goes well, you should see some output returned below the grey cell."
   ]
  },
  {
   "cell_type": "code",
   "execution_count": null,
   "metadata": {
    "collapsed": true
   },
   "outputs": [],
   "source": [
    "!pgaccelinfo"
   ]
  },
  {
   "cell_type": "markdown",
   "metadata": {},
   "source": [
    "---\n",
    "\n",
    "## Introduction\n",
    "\n",
    "Our goal for this lab is to use the OpenACC Data Directives to properly manage our data.We are going to use the same development cycle that we have used to this point. That is the 3-step development cycle.\n",
    "  \n",
    "  \n",
    "  \n",
    "![development_cycle.png](../files/images/development_cycle.png)\n",
    "\n",
    "This is the OpenACC 3-Step development cycle.\n",
    "\n",
    "**Analyze** your code, and predict where potential parallelism can be uncovered. Use profiler to help understand what is happening in the code, and where parallelism may exist.\n",
    "\n",
    "**Parallelize** your code, starting with the most time consuming parts. Focus on maintaining correct results from your program.\n",
    "\n",
    "**Optimize** your code, focusing on maximizing performance. Performance may not increase all-at-once during early parallelization.\n",
    "\n",
    "We are currently tackling the **parallelize** step. We will include the OpenACC data directive to properly manage data within our parallelized code."
   ]
  },
  {
   "cell_type": "markdown",
   "metadata": {},
   "source": [
    "---\n",
    "\n",
    "## Run the Code (With Managed Memory)\n",
    "\n",
    "In the previous lab, we ran our code with CUDA Managed Memory, and achieved a considerable performance boost. However, managed memory is not compatible with all GPUs, and it performs worse than programmer defined, proper memory management. Run the following script, and note the time the program takes to run. We are expecting that our own implementation will run a little bit better."
   ]
  },
  {
   "cell_type": "code",
   "execution_count": null,
   "metadata": {
    "collapsed": true
   },
   "outputs": [],
   "source": [
    "!pgfortran -fast -ta=tesla:cc30,managed -Minfo=accel -o laplace_managed laplace2d.f90 jacobi.f90 && ./laplace_managed"
   ]
  },
  {
   "cell_type": "markdown",
   "metadata": {},
   "source": [
    "### Optional: Analyze the Code\n",
    "\n",
    "If you would like a refresher on the code files that we are working on, you may view both of them using the two links below.\n",
    "\n",
    "[jacobi.f90](../../../edit/04-Data-Management-with-OpenACC/Fortran/jacobi.f90)  \n",
    "[laplace2d.f90](../../../edit/04-Data-Management-with-OpenACC/Fortran/laplace2d.f90)  "
   ]
  },
  {
   "cell_type": "markdown",
   "metadata": {},
   "source": [
    "### Optional: Profile the Code\n",
    "\n",
    "If you would like to profile the code, you may select <a href=\"/vnc\" target=\"_blank\">this link.</a> This will open a noVNC window, then you may use PGPROF to profile our managed memory laplace code. The **laplace_managed** executable will be found in the /notebooks/Fortran directory."
   ]
  },
  {
   "cell_type": "markdown",
   "metadata": {},
   "source": [
    "---\n",
    "\n",
    "## OpenACC Structured Data Directive\n",
    "\n",
    "The OpenACC data directives allow the programmer to explicitly manage the data on the device (in our case, the GPU). Specifically, the structured data directive will mark a static region of our code as a **data region**.\n",
    "\n",
    "```\n",
    "< Initialize data on host (CPU) >\n",
    "\n",
    "!$acc data clauses\n",
    "\n",
    "\t< Sequential and/or Parallel code >\n",
    "\n",
    "!$acc end data\n",
    "```\n",
    "\n",
    "Device memory allocation happens at the beginning of the region, and device memory deallocation happens at the end of the region. Additionally, any data movement from the host to the device (CPU to GPU) happens at the beginning of the region, and any data movement from the device to the host (GPU to CPU) happens at the end of the region. Memory allocation/deallocation and data movement is defined by which clauses the programmer includes. This is a list of the most important data clauses that we can use:\n",
    "\n",
    "**copy** : copy( A(1:N) ) : Allocates memory on device and copies data from host to device when entering region and copies data back to the host when exiting region  \n",
    "**copyin** : copyin( A(1:N) ) : Allocates memory on device and copies data from host to device when entering region  \n",
    "**copyout** : copyout( A(1:N) ) : Allocates memory on device and copies data to the host when exiting region  \n",
    "**create** : create( A(1:N) ) : Allocates memory on device but does not copy  \n",
    "**present** : present( A ) : Data is already present on device from another containing data region  \n",
    "\n",
    "All of these data clauses (except for present) will allocate device memory at the beginning of the data region, and deallocate device memory at the end of the data region. And with the exception of create, they will also transfer some amount of data between the host and device.\n",
    "\n",
    "You may also use them to operate on multiple arrays at once, by including those arrays as a comma separated list.\n",
    "\n",
    "```\n",
    "!$acc data copy( A(1:N), B(1:M), C(1:Q) )\n",
    "```\n",
    "\n",
    "You may also use more than one data clause at a time.\n",
    "\n",
    "```\n",
    "!$acc data create( A(1:N) ) copyin( B(1:M) ) copyout( C(1:Q) )\n",
    "```\n",
    "\n",
    "These clauses can also be used directly with a parallel or kernels directive, because every parallel and kernels directive is surrounded by an **implied data region**.\n",
    "\n",
    "```\n",
    "!$acc kernels create(A(1:N)) copyin(B(1:M)) present(C(1:Q))\n",
    "\n",
    "    < Code that uses A, B, and C >\n",
    "\n",
    "```"
   ]
  },
  {
   "cell_type": "markdown",
   "metadata": {
    "collapsed": true
   },
   "source": [
    "### Encompassing Multiple Compute Regions\n",
    "\n",
    "A single data region can contain any number of parallel/kernels regions. Take the following example:\n",
    "\n",
    "```\n",
    "!acc data copyin(A, B) create(C)\n",
    "\n",
    "    !acc parallel loop\n",
    "    for i=1,N\n",
    "        C(i) = A(i) + B(i)\n",
    "    enddo\n",
    "    \n",
    "    !acc parallel loop\n",
    "    do i=1,N\n",
    "        A(i) = C(i) + B(i)\n",
    "    enddo\n",
    "\n",
    "```\n",
    "\n",
    "You may also encompass function calls within the data region:\n",
    "\n",
    "```\n",
    "subroutine copy(A, B, N)\n",
    "integer :: A(:), B(:), N\n",
    "\n",
    "!acc parallel loop\n",
    "do i=1,N\n",
    "   A(i) = B(i)\n",
    "enddo\n",
    "\n",
    "end subroutine copy\n",
    "\n",
    "\n",
    "...\n",
    "\n",
    "!acc data copyout(A,B) copyin(C)\n",
    "call copy(A, C, N);\n",
    "    \n",
    "call copy(A, B, N);\n",
    "```"
   ]
  },
  {
   "cell_type": "markdown",
   "metadata": {
    "collapsed": true
   },
   "source": [
    "### Array Shaping\n",
    "\n",
    "The \"array shape\" defines a portion of an array. Take the following example:\n",
    "\n",
    "```\n",
    "integer, dimension(:), allocatable :: A\n",
    "allocate( A(N) )\n",
    "\n",
    "!acc data create( A )\n",
    "```\n",
    "\n",
    "The array shape is not defined, this means that the GPU copy will start at index 1, and be of size N (i.e. the entire array). However, you can specify a subset of the array using as A(2:N-1). Array shape is of the format **Array(starting_index:ending_index)**. Let's look at an example where we only want a portion of the array.\n",
    "\n",
    "```\n",
    "integer, dimension(:), allocatable :: A\n",
    "allocate( A(N) )\n",
    "\n",
    "!acc data create( A(1:N/2) )\n",
    "```\n",
    "\n",
    "In this example, the GPU copy will start at index 1, but will only be half the size of the CPU copy.\n",
    "\n",
    "The shape of multi-dimensional arrays can be defined as follows:\n",
    "\n",
    "```\n",
    "!acc data create( A(1:N,1:M) )\n",
    "```\n",
    "\n",
    "If you do not include a starting index, then 1 is assumed. For example:\n",
    "\n",
    "```\n",
    "!acc data create( A(1:N) )\n",
    "```\n",
    "\n",
    "is equivalent to\n",
    "\n",
    "```\n",
    "!acc data create( A(:N) )\n",
    "```\n",
    "\n",
    "In Fortran, if you don't specify any of the indices, **starting_index** or **ending_index** then the compiler will assume you mean the entire array using the starting and ending indexes of the array on the CPU. An example is,\n",
    "\n",
    "```\n",
    "!acc data create( A )\n",
    "```"
   ]
  },
  {
   "cell_type": "markdown",
   "metadata": {
    "collapsed": true
   },
   "source": [
    "### Host or Device Memory?\n",
    "\n",
    "Here are two loops:\n",
    "\n",
    "```\n",
    "integer, dimension(:), allocatable :: A\n",
    "allocate( A(N) )\n",
    "\n",
    "do i=1,N\n",
    "    A(i) = 0\n",
    "enddo\n",
    "\n",
    "!acc parallel loop\n",
    "do i=1,N\n",
    "    A(i) = 1\n",
    "enddo\n",
    "```\n",
    "\n",
    "The first loop is not contained within an OpenACC compute region (a compute region is marked by either the parallel or kernels directive). Thus, **A(i)** will access host (CPU) memory.\n",
    "\n",
    "The second loop is preceeded by the parallel directive, meaning that it is contained within an OpenACC compute region. **A(i)** in the second loop will access device (GPU) memory."
   ]
  },
  {
   "cell_type": "markdown",
   "metadata": {
    "collapsed": true
   },
   "source": [
    "### Adding the Structured Data Directive to our Code\n",
    "\n",
    "Use the following links to edit our laplace code. Add a structured data directive to properly handle the arrays **A** and **Anew**. \n",
    "\n",
    "[jacobi.f90](../../../edit/04-Data-Management-with-OpenACC/Fortran/jacobi.f90)   \n",
    "[laplace2d.f90](../../../edit/04-Data-Management-with-OpenACC/Fortran/laplace2d.f90)  \n",
    "\n",
    "Then, run the following script to check you solution. You code should run just as good as (or slightly better) than our managed memory code."
   ]
  },
  {
   "cell_type": "code",
   "execution_count": null,
   "metadata": {
    "collapsed": true
   },
   "outputs": [],
   "source": [
    "!pgfortran -fast -ta=tesla:cc30 -Minfo=accel -o laplace_structured laplace2d.f90 jacobi.f90 && ./laplace_structured"
   ]
  },
  {
   "cell_type": "markdown",
   "metadata": {},
   "source": [
    "If you are feeling stuck, or would like to check your answer, you can view the correct answer with the following link.\n",
    "\n",
    "[jacobi.f90](../../../edit/04-Data-Management-with-OpenACC/Fortran/solutions/advanced_data/structured/jacobi.f90)"
   ]
  },
  {
   "cell_type": "markdown",
   "metadata": {},
   "source": [
    "### Optional: Profile the Code\n",
    "\n",
    "If you would like to profile the code, you may select <a href=\"/vnc\" target=\"_blank\">this link.</a> This will open a noVNC window. To create a new session, select File > New Session. In the \"File\" section, select \"Browse\". Locate our **laplace_structured** executable in the /notebooks/Fortran directory. The select OK > Next > Finished. The code will take a few seconds to finish profiling.\n",
    "\n",
    "Take a moment to explore the profiler, and when you're ready, let's zoom in on the very beginning of our profile.\n",
    "\n",
    "![structured_pgprof1.PNG](../files/images/structured_pgprof1.PNG)\n",
    "\n",
    "We can see that we have uninterupted computation, and all of our data movement happens at the beginning of the program. This is ideal, because we are avoiding data transers in the middle of our computation."
   ]
  },
  {
   "cell_type": "markdown",
   "metadata": {
    "collapsed": true
   },
   "source": [
    "---\n",
    "\n",
    "## OpenACC Unstructured Data Directives\n",
    "\n",
    "There are two unstructured data directives:\n",
    "\n",
    "**enter data**: Handles device memory allocation, and copies from the Host to the Device. The two clauses that you may use with **enter data** are **create** for device memory allocation, and **copyin** for allocation, and memory copy.\n",
    "\n",
    "**exit data**: Handles device memory deallocation, and copies from the Device to the Host. The two clauses that you may use with **exit data** are **delete** for device memory deallocation, and **copyout** for deallocation, and memory copy.\n",
    "\n",
    "The unstructured data directives do not mark a \"data region\", because you are able to have multiple **enter data** and **exit data** directives in your code. It is better to think of them purely as memory allocation and deallocation.\n",
    "\n",
    "The largest advantage of using unstructured data directives is their ability to branch across multiple functions. You may allocate your data in one function, and deallocate it in another. We can look at a simple example of that:\n",
    "\n",
    "```\n",
    "subroutine intallocate(A,N)\n",
    "    integer :: N\n",
    "    integer, allocatable, dimension(:) :: A\n",
    "\n",
    "    allocate( A(1:N) )\n",
    "    !acc enter data create (A(1:N))\n",
    "end subroutine intallocate\n",
    "\n",
    "subroutine intdeallocate(A,N)\n",
    "    integer :: N\n",
    "    integer, allocatable, dimension(:) :: A\n",
    "\n",
    "    !acc exit data delete(A(1:N))\n",
    "    if (allocated(A)) deallocate(A)\n",
    "end subroutine intdeallocate\n",
    "\n",
    "\n",
    "program main\n",
    "    integer, allocatable, dimension(:) :: A\n",
    "\n",
    "    call intallocate(A,100)\n",
    "    \n",
    "    !acc parallel loop\n",
    "    do i=1,100\n",
    "        A(i) = 0\n",
    "    enddo\n",
    "    \n",
    "    call intdeallocate(A,100)\n",
    "end program main\n",
    "```\n",
    "\n",
    "Just like in the above code sample, you must first allocate the CPU copy of the array **before** you can allocate the GPU copy. Also, you must deallocate the GPU of the array **before** you deallocate the CPU copy."
   ]
  },
  {
   "cell_type": "markdown",
   "metadata": {},
   "source": [
    "### Adding Unstructured Data Directives to our Code\n",
    "\n",
    "We are going to edit our code to use unstructured data directives to handle memory management. First, run the following script to reset your code to how it was before adding the structured data directive."
   ]
  },
  {
   "cell_type": "code",
   "execution_count": null,
   "metadata": {
    "collapsed": true
   },
   "outputs": [],
   "source": [
    "!cp ./solutions/basic_data/jacobi.f90 ./jacobi.f90 && cp ./solutions/basic_data/laplace2d.f90 ./laplace2d.f90 && echo \"Reset Finished\""
   ]
  },
  {
   "cell_type": "markdown",
   "metadata": {},
   "source": [
    "Now edit the code to use unstructured data directives. To fully utilize the unstructured data directives, try to get the code working by only altering the **laplace2d.f90** code.\n",
    "\n",
    "[jacobi.f90](../../../edit/04-Data-Management-with-OpenACC/Fortran/jacobi.f90)   \n",
    "[laplace2d.f90](../../../edit/04-Data-Management-with-OpenACC/Fortran/laplace2d.f90)  \n",
    "\n",
    "Run the following script to check your solution. Your code should run as fast as our structured implementation."
   ]
  },
  {
   "cell_type": "code",
   "execution_count": null,
   "metadata": {
    "collapsed": true
   },
   "outputs": [],
   "source": [
    "!pgfortran -fast -ta=tesla:cc30 -Minfo=accel -o laplace_unstructured laplace2d.f90 jacobi.f90 && ./laplace_unstructured"
   ]
  },
  {
   "cell_type": "markdown",
   "metadata": {},
   "source": [
    "If you are feeling stuck, or would like to check your answer, you can view the correct answer with the following link.\n",
    "\n",
    "[laplace2d.f90](../../../edit/04-Data-Management-with-OpenACC/Fortran/solutions/advanced_data/unstructured/laplace2d.f90)"
   ]
  },
  {
   "cell_type": "markdown",
   "metadata": {
    "collapsed": true
   },
   "source": [
    "### Optional: Profile the Code\n",
    "\n",
    "If you would like to profile the code, you may select <a href=\"/vnc\" target=\"_blank\">this link.</a> This will open a noVNC window. To create a new session, select File > New Session. In the \"File\" section, select \"Browse\". Locate our **laplace_unstructured** executable in the /notebooks/Fortran directory. The select OK > Next > Finished. The code will take a few seconds to finish profiling.\n",
    "\n",
    "Take a moment to explore the profiler, and when you're ready, let's zoom in on the very beginning of our profile.\n",
    "\n",
    "![unstructured_pgprof1.PNG](../files/images/unstructured_pgprof1.PNG)\n",
    "\n",
    "We can see that we have uninterupted computation, and all of our data movement happens at the beginning of the program. This is ideal, because we are avoiding data transers in the middle of our computation. If you also profiled the structured version of the code, you will notice that the profiles are nearly identical. This isn't surprising, since the structured and unstructured approach work very similarly at the hardware level. However, structured data regions may be easier in simple codes, whereas some codes might flow better when using an unstructured approach. It is up to the programmer to decide which to use."
   ]
  },
  {
   "cell_type": "markdown",
   "metadata": {
    "collapsed": true
   },
   "source": [
    "---\n",
    "\n",
    "## OpenACC Update Directive\n",
    "\n",
    "When we use the data directives, there exist two places where the programmer can transfer data between the host and the device. For the structured data directive we have the opportunity to transfer data at the beginning and at the end of the region. For the unstructured data directives, we can transfer data when we use the enter data and exit data directives.\n",
    "\n",
    "However, there may be times in your program where you need to transfer data in the middle of a data region, or between an enter data and an exit data. In order to transfer data at those times, we can use the **update** directive. The update directive will explicitly transfer data between the host and the device. The **update** directive has two clauses:\n",
    "\n",
    "**self**: The self clause will transfer data from the device to the host (GPU to CPU)  \n",
    "**device**: The device clause will transfer data from the host to the device (CPU to GPU)\n",
    "\n",
    "The syntax would look like:\n",
    "\n",
    "**!acc update self(A)**\n",
    "\n",
    "**!acc update device(A)**\n",
    "\n",
    "All of the array shaping rules apply.\n",
    "\n",
    "As an example, let's create a version of our laplace code where we want to print the array **A** after every 100 iterations of our loop. The code will look like this:\n",
    "\n",
    "```\n",
    "!acc data copyin(A(n,m), Anew(n,m))\n",
    "do while (error > tol && iter < iter_max)\n",
    "    error = calcNext(A, Anew, m, n)\n",
    "    swap(A, Anew, m, n)\n",
    "    \n",
    "    if (mod(iter,100) == 0) then\n",
    "        write(*,'(i5,f10.6)'), iter, error\n",
    "        do i=1,n\n",
    "            do j=1,m\n",
    "                write(*,'(f10.2)', advance=\"no\"), A(i,j)\n",
    "            enddo\n",
    "            write(*,*) ' '\n",
    "        enddo\n",
    "    endif\n",
    "\n",
    "    iter = iter + 1\n",
    "enddo\n",
    "```\n",
    "\n",
    "Let's run this code (on a very small data set, so that we don't overload the console by printing thousands of numbers).\n",
    "\n",
    "Note: You will have to edit jacobi.f90 and change the dimensions of the problem from 4096 to 10. Otherwise the code will take a long time to run and it will produce a great deal of output to the screen.\n",
    "\n",
    "**Once again**, please change the dimenions of the problem, **n** and **n** to 10. Originally the line in jacobi.f90 will be the following.\n",
    "\n",
    "```\n",
    "integer, parameter :: n=4096, m=4096, iter_max=1000\n",
    "```\n",
    "\n",
    "That line in the jacobi.f90 now needs to look like the following\n",
    "```\n",
    "integer, parameter :: n=10, m=10, iter_max=1000\n",
    "```\n",
    "\n",
    "The simple reason is that the Fortran code does not have command line argument capability while the C version does. Clicking on the links below will allow you to edit the code.\n",
    "\n",
    "[jacobi.f90](../../../edit/04-Data-Management-with-OpenACC/Fortran/update/jacobi.f90)  \n",
    "[laplace2d.f90](../../../edit/04-Data-Management-with-OpenACC/Fortran/update/laplace2d.f90)   \n"
   ]
  },
  {
   "cell_type": "code",
   "execution_count": null,
   "metadata": {
    "collapsed": true
   },
   "outputs": [],
   "source": [
    "!cd update && pgfortran -fast -ta=tesla:cc30 -Minfo=accel -o laplace_no_update laplace2d.f90 jacobi.f90 && ./laplace_no_update"
   ]
  },
  {
   "cell_type": "markdown",
   "metadata": {
    "collapsed": true
   },
   "source": [
    "We can see that the array is not changing. This is because the host copy of **A** is not being **updated** between loop iterations. Let's add the update directive, and see how the output changes.\n",
    "\n",
    "```\n",
    "!acc data copyin( A(n,m), Anew(n,m))\n",
    "\n",
    "do while (error > tol && iter < iter_max)\n",
    "    error = calcNext(A, Anew, m, n)\n",
    "    swap(A, Anew, m, n)\n",
    "    \n",
    "    if (mod(iter,100) == 0)\n",
    "        write(*,'(i5,f10.6)'), iter, error\n",
    "        \n",
    "        !acc update self(A(n,m))\n",
    "        do i=1,n\n",
    "            do j=1,m\n",
    "                write(*,'(f10.2)', advance=\"no\"), A(i,j)\n",
    "            enddo\n",
    "        enddo\n",
    "    endif\n",
    "    iter = iter+1\n",
    "    \n",
    "end do\n",
    "```\n",
    "\n",
    "Note: You will have to edit jacobi.f90 and change the dimensions of the problem from 4096 to 10. Otherwise the code will take a long time to run and it will produce a great deal of output to the screen.\n",
    "\n",
    "**Once again**, please change the dimenions of the problem, **n** and **n** to 10. Originally the line in jacobi.f90 will be the following.\n",
    "\n",
    "```\n",
    "integer, parameter :: n=4096, m=4096, iter_max=1000\n",
    "```\n",
    "\n",
    "That line in the jacobi.f90 now needs to look like the following\n",
    "```\n",
    "integer, parameter :: n=10, m=10, iter_max=1000\n",
    "```\n",
    "\n",
    "The simple reason is that the Fortran code does not have command line argument capability while the C version does. Clicking on the links below will allow you to edit the code.\n",
    "\n",
    "[jacobi.f90](../../../edit/04-Data-Management-with-OpenACC/Fortran/update/solution/jacobi.f90)  \n",
    "[laplace2d.f90](../../../edit/04-Data-Management-with-OpenACC/Fortran/update/solution/laplace2d.f90)   \n"
   ]
  },
  {
   "cell_type": "code",
   "execution_count": null,
   "metadata": {
    "collapsed": true
   },
   "outputs": [],
   "source": [
    "!cd update/solution && pgfortran -fast -ta=tesla:cc30 -Minfo=accel -o laplace_update laplace2d.f90 jacobi.f90 && ./laplace_update"
   ]
  },
  {
   "cell_type": "markdown",
   "metadata": {
    "collapsed": true
   },
   "source": [
    "---\n",
    "\n",
    "## Conclusion\n",
    "\n",
    "Relying on managed memory to handle data management can reduce the effort the programmer needs to parallelize their code, however, not all GPUs work with managed memory, and it is also lower performance than using explicit data management. OpenACC gives the programmer two main ways to handle data management, structured and unstructured data directives. By using these, the programmer is able to minimize the number of data transfers needed in their program."
   ]
  },
  {
   "cell_type": "markdown",
   "metadata": {},
   "source": [
    "---\n",
    "\n",
    "## Bonus Task\n",
    "\n",
    "If you would like some additional lessons on using OpenACC, there is an Introduction to OpenACC video series available from the OpenACC YouTube page. The fifth video in the series covers a lot of the content that was covered in this lab.  \n",
    "\n",
    "[Introduction to Parallel Programming with OpenACC - Part 5](https://youtu.be/0zTX7-CPvV8)  "
   ]
  },
  {
   "cell_type": "markdown",
   "metadata": {
    "collapsed": true
   },
   "source": [
    "## Post-Lab Summary\n",
    "\n",
    "If you would like to download this lab for later viewing, it is recommend you go to your browsers File menu (not the Jupyter notebook file menu) and save the complete web page.  This will ensure the images are copied down as well.\n",
    "\n",
    "You can also execute the following cell block to create a zip-file of the files you've been working on, and download it with the link below."
   ]
  },
  {
   "cell_type": "code",
   "execution_count": null,
   "metadata": {
    "collapsed": true
   },
   "outputs": [],
   "source": [
    "%%bash\n",
    "rm -f openacc_files.zip\n",
    "zip -r openacc_files.zip *"
   ]
  },
  {
   "cell_type": "markdown",
   "metadata": {},
   "source": [
    "**After** executing the above zip command, you should be able to download the zip file [here](files/openacc_files.zip)"
   ]
  }
 ],
 "metadata": {
  "kernelspec": {
   "display_name": "Python 3",
   "language": "python",
   "name": "python3"
  },
  "language_info": {
   "codemirror_mode": {
    "name": "ipython",
    "version": 3
   },
   "file_extension": ".py",
   "mimetype": "text/x-python",
   "name": "python",
   "nbconvert_exporter": "python",
   "pygments_lexer": "ipython3",
   "version": "3.6.5"
  }
 },
 "nbformat": 4,
 "nbformat_minor": 1
}
