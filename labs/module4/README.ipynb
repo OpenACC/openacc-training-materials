{
 "cells": [
  {
   "cell_type": "markdown",
   "metadata": {},
   "source": [
    "GPU Programming with OpenACC\n",
    "============================\n",
    "\n",
    "This lab is meant to accompany Module 4 of the OpenACC.org teaching materials.\n",
    "The purpose of this lab is to introduce GPU programming with OpenACC. Lab\n",
    "instructions and source code is available for C/C++ and Fortran.\n",
    "\n",
    "Please see the following files to begin the lab:\n",
    "\n",
    "* [C/C++](English/C/README.ipynb)\n",
    "* [Fortran](English/Fortran/README.ipynb)\n"
   ]
  }
 ],
 "metadata": {
  "kernelspec": {
   "display_name": "Python 3",
   "language": "python",
   "name": "python3"
  },
  "language_info": {
   "codemirror_mode": {
    "name": "ipython",
    "version": 3
   },
   "file_extension": ".py",
   "mimetype": "text/x-python",
   "name": "python",
   "nbconvert_exporter": "python",
   "pygments_lexer": "ipython3",
   "version": "3.7.4"
  }
 },
 "nbformat": 4,
 "nbformat_minor": 2
}
