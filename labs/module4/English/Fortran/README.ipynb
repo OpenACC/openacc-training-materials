{
 "cells": [
  {
   "cell_type": "markdown",
   "metadata": {},
   "source": [
    "# GPU Programming With OpenACC"
   ]
  },
  {
   "cell_type": "markdown",
   "metadata": {},
   "source": [
    "This version of the lab is intended for Fortran programmers. The C/C++ version of this lab is available [here](../C/README.ipynb)."
   ]
  },
  {
   "cell_type": "markdown",
   "metadata": {},
   "source": [
    "You will receive a warning five minutes before the lab instance shuts down. Remember to save your work! If you are about to run out of time, please see the [Post-Lab](#Post-Lab-Summary) section for saving this lab to view offline later."
   ]
  },
  {
   "cell_type": "markdown",
   "metadata": {},
   "source": [
    "---\n",
    "Let's execute the cell below to display information about the GPUs running on the server. To do this, execute the cell block below by giving it focus (clicking on it with your mouse), and hitting Ctrl-Enter, or pressing the play button in the toolbar above.  If all goes well, you should see some output returned below the grey cell."
   ]
  },
  {
   "cell_type": "code",
   "execution_count": null,
   "metadata": {
    "collapsed": true
   },
   "outputs": [],
   "source": [
    "!pgaccelinfo"
   ]
  },
  {
   "cell_type": "markdown",
   "metadata": {
    "collapsed": true
   },
   "source": [
    "## Introduction\n",
    "\n",
    "Our goal for this lab is to learn what exactly code profiling is, and how we can use it to help us write powerful parallel programs.  \n",
    "  \n",
    "  \n",
    "  \n",
    "![development_cycle.png](../files/images/development_cycle.png)\n",
    "\n",
    "This is the OpenACC 3-Step development cycle.\n",
    "\n",
    "**Analyze** your code, and predict where potential parallelism can be uncovered. Use profiler to help understand what is happening in the code, and where parallelism may exist.\n",
    "\n",
    "**Parallelize** your code, starting with the most time consuming parts. Focus on maintaining correct results from your program.\n",
    "\n",
    "**Optimize** your code, focusing on maximizing performance. Performance may not increase all-at-once during early parallelization.\n",
    "\n",
    "We are currently tackling the **analyze** step. We will use PGI's code profiler to get an understanding of a relatively simple sample code before moving onto the next two steps."
   ]
  },
  {
   "cell_type": "markdown",
   "metadata": {
    "collapsed": true
   },
   "source": [
    "---\n",
    "\n",
    "## Run the Code (Multicore)\n",
    "\n",
    "We have already completed a basic multicore implementation of our lab code. Run the following script IF you would prefer to use the parallel directive."
   ]
  },
  {
   "cell_type": "code",
   "execution_count": null,
   "metadata": {
    "collapsed": true
   },
   "outputs": [],
   "source": [
    "!cp ./solutions/multicore/laplace2d.f90 ./laplace2d.f90"
   ]
  },
  {
   "cell_type": "markdown",
   "metadata": {
    "collapsed": true
   },
   "source": [
    "---\n",
    "If you would prefer to use the kernels directive, run the following script."
   ]
  },
  {
   "cell_type": "code",
   "execution_count": null,
   "metadata": {
    "collapsed": true
   },
   "outputs": [],
   "source": [
    "!cp ./solutions/multicore/kernels/laplace2d.f90 ./laplace2d.f90"
   ]
  },
  {
   "cell_type": "markdown",
   "metadata": {
    "collapsed": true
   },
   "source": [
    "---\n",
    "Then you may run the multicore code by running the following script. An executable called **laplace_multicore** will be created."
   ]
  },
  {
   "cell_type": "code",
   "execution_count": null,
   "metadata": {
    "collapsed": true
   },
   "outputs": [],
   "source": [
    "!pgfortran -fast -ta=multicore -Minfo=accel -o laplace_multicore laplace2d.f90 jacobi.f90 && ./laplace_multicore"
   ]
  },
  {
   "cell_type": "markdown",
   "metadata": {
    "collapsed": true
   },
   "source": [
    "### Optional: Analyze the Code\n",
    "\n",
    "If you would like a refresher on the code files that we are working on, you may view both of them using the two links below.\n",
    "\n",
    "[jacobi.f90](../../../edit/03-GPU-Programming-with-OpenACC/Fortran/jacobi.f90)  \n",
    "[laplace2d.f90](../../../edit/03-GPU-Programming-with-OpenACC/Fortran/laplace2d.f90)  "
   ]
  },
  {
   "cell_type": "markdown",
   "metadata": {},
   "source": [
    "### Optional: Profile the Code\n",
    "\n",
    "If you would like to profile the multicore code, you may select <a href=\"/vnc\" target=\"_blank\">this link.</a> This will open a noVNC window, then you may use PGPROF to profile our multicore laplace code. The executable will be found in the /notebooks/C directory."
   ]
  },
  {
   "cell_type": "markdown",
   "metadata": {},
   "source": [
    "---\n",
    "## Optional: Introduction to GPUs (Graphical Processing Units)\n",
    "\n",
    "GPUs were originally used to render computer graphics for video games. While they continue to dominate the video game hardware market, GPUs have also been adapted as a **high-throughput parallel hardware**. They excel at doing many things simultaneously.\n",
    "\n",
    "![cpu_with_gpu.png](../files/images/cpu_with_gpu.png)\n",
    "\n",
    "Similar to a multicore CPU, a GPU has multiple computational cores. A GPU will have many more cores, but these cores perform very badly when executing sequential serial code. Our goal when using a GPU is to only use it to offload our parallel code. All of our sequential code will continue to run on our CPU.\n",
    "\n",
    "GPUs are what is known as a SIMD architecture (SIMD stands for: single instruction, multiple data). This means that GPUs excel at taking a single computer instruction (such as a mathematical instruction, or a memory read/write) and applying that instruction to a large amount of data. Ultimately, this means that a GPU can execute thousands of operations at the same time. This function is very similar to our multicore CPU architecture, except that with a GPU, we have a many more cores at our disposal.\n",
    "\n",
    "![cpu_and_gpu_diagram.png](../files/images/cpu_and_gpu_diagram.png)\n",
    "\n",
    "This diagram represents a machine that contains a CPU and a GPU. We can see that the CPU and GPU are two complete seperate devices, connected via an I/O Bus. This bus is traditionally a PCI-e bus, however, NVLink is a newer, faster alternative. These two devices also have seperate memory. This means that during the execution of our program, some amount of data will be transferred between the CPU and the GPU."
   ]
  },
  {
   "cell_type": "markdown",
   "metadata": {},
   "source": [
    "---\n",
    "## Data Management With OpenACC\n",
    "\n",
    "When programming for a GPU (or similar architecture), we must handle data management between the CPU and the GPU. The programmer is able to explicitly define data management by using the OpenACC **data directive and data clauses**. Otherwise, we are able to allow the copmpiler to handle all data management. Depending on the GPU (specifically older GPUs), allowing the compiler to handle data management might not be a viable option."
   ]
  },
  {
   "cell_type": "markdown",
   "metadata": {
    "collapsed": true
   },
   "source": [
    "### Using OpenACC Data Clauses\n",
    "\n",
    "Data clauses allow the programmer to specify data transfers between the host and device (or in our case, the CPU and the GPU). Let's look at an example where we do not use a data clause.\n",
    "\n",
    "```\n",
    "integer, dimension(:), allocatable :: A\n",
    "allocate( A(N) )\n",
    "\n",
    "!acc parallel loop\n",
    "do i=1,N\n",
    "   A(i) = 0\n",
    "enddo\n",
    "```\n",
    "\n",
    "We have allocated an array **A** outside of our parallel region. This means that **A** is allocated in the CPU memory. However, we access **A** inside of our loop, and that loop is contained within a **parallel region**. Within that parallel region, **A(i)** is attempting to access a memory location within the GPU memory. We didn't explicitly allocate **A** on the GPU, so one of two things will happen.\n",
    "\n",
    "1. The compiler will understand what we are trying to do, and automatically copy **A** from the CPU to the GPU.\n",
    "2. The program will check for an array **A** in GPU memory, it won't find it, and it will throw an error.\n",
    "\n",
    "Instead of hoping that we have a compiler that can figure this out, we could instead use a **data clause**.\n",
    "\n",
    "```\n",
    "integer, dimension(:), allocatable :: A\n",
    "allocate( A(N) )\n",
    "\n",
    "!acc parallel loop copy(A)\n",
    "for i=1,N\n",
    "   A(i) = 0\n",
    "enddo\n",
    "```\n",
    "\n",
    "We will learn the **copy** data clause first, because it is the easiest to use. With the inclusion of the **copy** data clause, our program will now copy the content of **A** from the CPU memory, into GPU memory. Then, during the execution of the loop, it will properly access **A** from the GPU memory. After the parallel region is finished, our program will copy **A** from the GPU memory back to the CPU memory. Let's look at one more direct example.\n",
    "\n",
    "```\n",
    "integer, dimension(:), allocatable :: A\n",
    "allocate( A(N) )\n",
    "\n",
    "do i=1,N\n",
    "    A(i) = 0;\n",
    "enddo\n",
    "\n",
    "!acc parallel loop copy(A)\n",
    "for i=1,N\n",
    "    A(i) = 1;\n",
    "enddo\n",
    "```\n",
    "\n",
    "Now we have two loops; the first loop will execute on the CPU (since it does not have an OpenACC parallel directive), and the second loop will execute on the GPU. Array **A** will be allocated on the CPU, and then the first loop will execute. This loop will set the contents of **A** to be all 0. Then the second loop is encountered; the program will copy the array **A** (which is full of 0's) into GPU memory. Then, we will execute the second loop on the GPU. This will edit the GPU's copy of **A** to be full of 1's.\n",
    "\n",
    "At this point, we have two seperate copies of **A**. The CPU copy is full of 0's, and the GPU copy is full of 1's. Now, after the parallel region finishes, the program will copy **A** back from the GPU to the CPU. After this copy, both the CPU and the GPU will contain a copy of **A** that contains all 1's. The GPU copy of **A** will then be deallocated.\n",
    "\n",
    "This image offers another step-by-step example of using the copy clause.\n",
    "\n",
    "![copy_step_by_step](../files/images/copy_step_by_step.png)\n",
    "\n",
    "We are also able to copy multiple arrays at once by using the following syntax.\n",
    "\n",
    "```\n",
    "!acc parallel loop copy(A, B)\n",
    "do i=1,N\n",
    "   A(i) = B(i)\n",
    "enddo\n",
    "```"
   ]
  },
  {
   "cell_type": "markdown",
   "metadata": {
    "collapsed": true
   },
   "source": [
    "### Array Shaping\n",
    "\n",
    "The shape of the array specifies how much data needs to be transferred. Let's look at an example:\n",
    "\n",
    "```\n",
    "!acc parallel loop copy(A(1:N))\n",
    "do i=1,N\n",
    "   A(i) = 0\n",
    "enddo\n",
    "```\n",
    "\n",
    "Focusing specifically on the **copy(A(1:N))**, the shape of the array is defined within the brackets. The syntax for array shape is **(starting_index:ending_index)**. This means that (in the code example) we are copying data from array **A**, starting at index 1 (the start of the array), and going to the end of the array, N.\n",
    "\n",
    "We are also able to only copy a portion of the array:\n",
    "\n",
    "```\n",
    "!acc parallel copy(A(2:N-1))\n",
    "```\n",
    "\n",
    "This would copy all of the elements of **A** except for the first, and last element.\n",
    "\n",
    "Lastly, if you do not specify a starting index, 1 is assumed. This means that\n",
    "\n",
    "```\n",
    "!acc parallel loop copy(A(1:N))\n",
    "```\n",
    "\n",
    "is equivalent to\n",
    "\n",
    "```\n",
    "!acc parallel loop copy(A(:N))\n",
    "```\n",
    "\n",
    "or \n",
    "\n",
    "```\n",
    "!acc parallel loop copy(A)\n",
    "```"
   ]
  },
  {
   "cell_type": "markdown",
   "metadata": {
    "collapsed": true
   },
   "source": [
    "### Including Data Clauses in our Laplace Code\n",
    "\n",
    "Add **copy** data clause to our laplace code by selecting the following links:\n",
    "\n",
    "[jacobi.f90](../../../edit/03-GPU-Programming-with-OpenACC/Fortran/jacobi.f90)  \n",
    "[laplace2d.f90](../../../edit/03-GPU-Programming-with-OpenACC/Fortran/laplace2d.f90)  \n",
    "\n",
    "Then, when you are ready, you may run the code by running the following script. It may not be intuitively obvious yet, but we are expecting the code to perform very poorly. For this reason, we are running our GPU code on a **significantly smaller input size**. If you were to run the GPU code on the full sized input, it will take several minutes to run."
   ]
  },
  {
   "cell_type": "code",
   "execution_count": null,
   "metadata": {
    "collapsed": true
   },
   "outputs": [],
   "source": [
    "!pgf90 -fast -ta=tesla:cc30 -Minfo=accel -o laplace_data_clauses laplace2d.f90 jacobi.f90  && ./laplace_data_clauses 1024 1024"
   ]
  },
  {
   "cell_type": "markdown",
   "metadata": {
    "collapsed": true
   },
   "source": [
    "If you are unsure about your answer, you can view the solution [here.](../../../edit/03-GPU-Programming-with-OpenACC/Fortran/solutions/basic_data/laplace2d.f90)"
   ]
  },
  {
   "cell_type": "markdown",
   "metadata": {
    "collapsed": true
   },
   "source": [
    "### Optional: Compiling GPU Code\n",
    "\n",
    "Different GPUs will need to be compiled in slightly different ways. To get information about our GPU, we can use the **pgaccelinfo** command."
   ]
  },
  {
   "cell_type": "code",
   "execution_count": null,
   "metadata": {
    "collapsed": true
   },
   "outputs": [],
   "source": [
    "!pgaccelinfo"
   ]
  },
  {
   "cell_type": "markdown",
   "metadata": {},
   "source": [
    "There is a lot of information contained here, however, we are only going to focus on two points.\n",
    "\n",
    "**Managed Memory:** will tell us whether or not our GPU supports CUDA managed memory. We will cover managed memory a little bit later in the lab.\n",
    "\n",
    "**PGI Compiler Option:** tells us which target to compiler for. Ealier we were using a **-ta=multicore** flag for our multicore code. Now, to compile for our specific GPU, we will replace it with **-ta=tesla:cc30**."
   ]
  },
  {
   "cell_type": "markdown",
   "metadata": {},
   "source": [
    "---\n",
    "### Profiling GPU Code\n",
    "\n",
    "In order to understand why our program is performing so poorly, we should consult our profiler.\n",
    "\n",
    "To profile our code, select <a href=\"/vnc\" target=\"_blank\">this link.</a> This will open a noVNC window, then you will use PGPROF to profile our edited laplace code.\n",
    "\n",
    "To open a new profiling session, select File > New Session. You will be greeted with this window.\n",
    "\n",
    "![pgprof1.PNG](../files/images/pgprof1.PNG)\n",
    "\n",
    "Where it says \"File: Enter executable file [required]\", select Browse. Select File System > notebooks, then press OK.\n",
    "\n",
    "![pgprof2.PNG](../files/images/pgprof2.PNG)\n",
    "\n",
    "Open the C directory, and select the \"laplace_data_clauses\" executable.\n",
    "\n",
    "![pgprof3.PNG](../files/images/pgprof3.PNG)\n",
    "\n",
    "Then select OK. Your screen should look similar to this:\n",
    "\n",
    "![pgprof4.PNG](../files/images/pgprof4.PNG)\n",
    "\n",
    "As stated previously, if we run our program with the default 4096x4096 array, the program will take several minutes to run. I recommend that you reduce the size. Type \"1024 1024\" into cell labeled \"Arguments\", as pictured below.\n",
    "\n",
    "![pgprof5.PNG](../files/images/pgprof5.PNG)\n",
    "\n",
    "PGPROF will now profile your application. You will know when it is finished when you see the application output in the console window.\n",
    "\n",
    "![pgprof6.PNG](../files/images/pgprof6.PNG)\n",
    "\n",
    "This is the view that you should see once PGPROF is done profiling your program.\n",
    "\n",
    "![pgprof7.PNG](../files/images/pgprof7.PNG)\n",
    "\n",
    "We can see that our \"timeline\" has a lot going on. Feel free to explore the profile at this point. It will help to zoom in, so that you can better see the information.\n",
    "\n",
    "![pgprof8.PNG](../files/images/pgprof8.PNG)\n",
    "\n",
    "Upon zooming in, we get a much better idea of what is happening inside of our program. I have zoomed in on a single iteration of our while loop. We can see that both **calcNext** and **swap** is called. We can also see that there is a lot of space between them. It may be obvious now why our program is performing so poorly. The amount of time that our program is transferring data (as seen in the MemCpy timelines) is far greater than the time it takes running our computational functions **calcNext** and **swap**. In order to improve our performance, we need to minimize these data transfers."
   ]
  },
  {
   "cell_type": "markdown",
   "metadata": {},
   "source": [
    "---\n",
    "## Managed Memory\n",
    "\n",
    "![managed_memory.png](../files/images/managed_memory.png)  \n",
    "\n",
    "As with many things in OpenACC, we have the option to allow the compiler to handle memory management. We will be able to achieve better performance by managing the memory ourselves, however, allowing the compiler to use managed memory is very simple, and will achieve much better performance than our naive solution from earlier. We do not need to make any changes to our code to get managed memory working. Simply run the following script. Keep in mind that unlike earlier, we are now running our code with the full sized 4096x4096 array."
   ]
  },
  {
   "cell_type": "code",
   "execution_count": null,
   "metadata": {
    "collapsed": true
   },
   "outputs": [],
   "source": [
    "!pgcc -fast -ta=tesla:cc30,managed -Minfo=accel -o laplace_managed laplace2d.f90 jacobi.f90  && ./laplace_managed"
   ]
  },
  {
   "cell_type": "markdown",
   "metadata": {},
   "source": [
    "### Optional: Compiling with the Managed Memory Flag\n",
    "\n",
    "As long as the GPU supports managed memory (see [Optional: Compiling GPU Code](#Optional:-Compiling-GPU-Code) to learn how to check if your GPU supports it), all you need to do is add the managed option to our **-ta** flag.\n",
    "\n",
    "**-ta=tesla:cc30,managed**"
   ]
  },
  {
   "cell_type": "markdown",
   "metadata": {},
   "source": [
    "### Profiling our Managed Memory Code\n",
    "\n",
    "Our program is doing a lot better. Let's re-profile it and see exactly why it improved. If you closed the noVNC window, you can reopen it by <a href=\"/vnc\" target=\"_blank\">this link.</a> To open a new profiling session, select File > New Session. Follow the steps from earlier, except select the \"laplace_managed\" executable. You may also emit the \"Arguments\". Once PGPROF is finished profiling our application, you should see the following view:  \n",
    "\n",
    "![pgprof_managed1.PNG](../files/images/pgprof_managed1.PNG)\n",
    "\n",
    "Feel free to explore the profile at this point. Then, when you're ready, let's zoom in.\n",
    "\n",
    "![pgprof_managed3.PNG](../files/images/pgprof_managed3.PNG)\n",
    "\n",
    "We can see that our compute regions (our **calcNext** and **swap** function calls) are much closer together now. There is significantly less data transfer happening between them. By using managed memory, the compiler was able to avoid the need to transfer data back and forth between the CPU and the GPU. In the next module, we will learn how to do this manually (which will boost the performance by a little bit), but for now, it is sufficient to use managed memory."
   ]
  },
  {
   "cell_type": "markdown",
   "metadata": {},
   "source": [
    "---\n",
    "\n",
    "## Conclusion\n",
    "\n",
    "We have learned how to run our code on a GPU using managed memory. We also experimented a little bit with managing the data ourselves, but that didn't work out as well as we had hoped. In the next module, we will expand on these data concepts and learn the proper way to manage our data, and will no longer need to rely on the compiler."
   ]
  },
  {
   "cell_type": "markdown",
   "metadata": {},
   "source": [
    "---\n",
    "\n",
    "## Bonus Task\n",
    "\n",
    "1. If you would like some additional lessons on using OpenACC to parallelize our code, there is an Introduction to OpenACC video series available from the OpenACC YouTube page. The third and fourth video in the series covers a lot of the content that was covered in this lab.  \n",
    "[Introduction to Parallel Programming with OpenACC - Part 3](https://youtu.be/Pcc3O6h-YPE)  \n",
    "[Introduction to Parallel Programming with OpenACC - Part 4](https://youtu.be/atXtVCHq8iw)"
   ]
  },
  {
   "cell_type": "markdown",
   "metadata": {},
   "source": [
    "## Post-Lab Summary\n",
    "\n",
    "If you would like to download this lab for later viewing, it is recommend you go to your browsers File menu (not the Jupyter notebook file menu) and save the complete web page.  This will ensure the images are copied down as well.\n",
    "\n",
    "You can also execute the following cell block to create a zip-file of the files you've been working on, and download it with the link below."
   ]
  },
  {
   "cell_type": "code",
   "execution_count": null,
   "metadata": {},
   "outputs": [],
   "source": [
    "%%bash\n",
    "rm -f openacc_files.zip\n",
    "zip -r openacc_files.zip *"
   ]
  },
  {
   "cell_type": "markdown",
   "metadata": {},
   "source": [
    "**After** executing the above zip command, you should be able to download the zip file [here](files/openacc_files.zip)"
   ]
  }
 ],
 "metadata": {
  "kernelspec": {
   "display_name": "Python 3",
   "language": "python",
   "name": "python3"
  },
  "language_info": {
   "codemirror_mode": {
    "name": "ipython",
    "version": 3
   },
   "file_extension": ".py",
   "mimetype": "text/x-python",
   "name": "python",
   "nbconvert_exporter": "python",
   "pygments_lexer": "ipython3",
   "version": "3.6.5"
  }
 },
 "nbformat": 4,
 "nbformat_minor": 1
}
