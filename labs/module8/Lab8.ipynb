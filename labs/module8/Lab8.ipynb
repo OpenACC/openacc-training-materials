{
 "metadata": {
  "kernelspec": {
   "display_name": "Python 3",
   "language": "python",
   "name": "python3"
  },
  "language_info": {
   "codemirror_mode": {
    "name": "ipython",
    "version": 3
   },
   "file_extension": ".py",
   "mimetype": "text/x-python",
   "name": "python",
   "nbconvert_exporter": "python",
   "pygments_lexer": "ipython3",
   "version": "3.4.3"
  },
  "name": "",
  "signature": "sha256:dce7aba985a910bcdd66a06d241e0c003dff4cf61e31f2158eff20b861aa0a15"
 },
 "nbformat": 3,
 "nbformat_minor": 0,
 "worksheets": [
  {
   "cells": [
    {
     "cell_type": "heading",
     "level": 1,
     "metadata": {},
     "source": [
      "Asynchronous Programming with OpenACC"
     ]
    },
    {
     "cell_type": "markdown",
     "metadata": {},
     "source": [
      "There are two versions of this lab. Click [here](./C/Lab8_C.ipynb) if you prefer to code in C/C++. Click [here](./Fortran/Lab8_Fortran.ipynb) if you prefer to code in Fortran."
     ]
    }
   ],
   "metadata": {}
  }
 ]
}