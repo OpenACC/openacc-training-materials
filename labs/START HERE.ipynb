{
 "cells": [
  {
   "cell_type": "markdown",
   "metadata": {},
   "source": [
    "# Welcome to the OpenACC labs\n",
    "\n",
    "Please select the appropriate lab below.\n",
    "\n",
    "* [Module 2](/module2)\n",
    "* [Module 3](/module3)\n",
    "* [Module 4](/module4)"
    "* [Module 5](/module5)\n",
    "* [Module 6](/module6)"
   ]
  }
 ],
 "metadata": {
  "kernelspec": {
   "display_name": "Python 3",
   "language": "python",
   "name": "python3"
  },
  "language_info": {
   "codemirror_mode": {
    "name": "ipython",
    "version": 3
   },
   "file_extension": ".py",
   "mimetype": "text/x-python",
   "name": "python",
   "nbconvert_exporter": "python",
   "pygments_lexer": "ipython3",
   "version": "3.5.2"
  }
 },
 "nbformat": 4,
 "nbformat_minor": 2
}
