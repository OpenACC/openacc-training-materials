{
 "cells": [
  {
   "cell_type": "markdown",
   "metadata": {},
   "source": [
    "# Welcome to the OpenACC labs\n",
    "\n",
    "Please select the appropriate lab below.\n",
    "\n",
    "* [Module 2](/notebooks/module2/README.ipynb)\n",
    "* [Module 3](/notebooks/module3/README.ipynb)\n",
    "* [Module 4](/notebooks/module4/README.ipynb)\n",
    "* [Module 5](/notebooks/module5/README.ipynb)\n",
    "* [Module 6](/notebooks/module6/README.ipynb)"
   ]
  }
 ],
 "metadata": {
  "kernelspec": {
   "display_name": "Python 3",
   "language": "python",
   "name": "python3"
  },
  "language_info": {
   "codemirror_mode": {
    "name": "ipython",
    "version": 3
   },
   "file_extension": ".py",
   "mimetype": "text/x-python",
   "name": "python",
   "nbconvert_exporter": "python",
   "pygments_lexer": "ipython3",
   "version": "3.5.2"
  }
 },
 "nbformat": 4,
 "nbformat_minor": 2
}
