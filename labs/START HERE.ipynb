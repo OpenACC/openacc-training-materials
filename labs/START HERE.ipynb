{
 "cells": [
  {
   "cell_type": "markdown",
   "metadata": {},
   "source": [
    "# Welcome to the OpenACC labs\n",
    "\n",
    "Please select the appropriate lab below.\n",
    "\n",
    "* [Module 2](/notebooks/module2/README.ipynb) - Application Profiling with Nsight Systems Lab - This lab introduces students to application profiling using the Nsight Systems profiler.\n",
    "* [Module 3](/notebooks/module3/README.ipynb) - OpenACC Directives Basics - This lab introduces OpenACC directives.\n",
    "* [Module 4](/notebooks/module4/README.ipynb) - GPU Programming with OpenACC - This lab introduces GPU programming with OpenACC. \n",
    "* [Module 5](/notebooks/module5/README.ipynb) - Data Management with OpenACC - This lab introduces OpenACC data management directives.\n",
    "* [Module 6](/notebooks/module6/README.ipynb) - OpenACC Loop Optimizations - This lab introduces students to loop optimizations in OpenACC.\n"
   ]
  }
 ],
 "metadata": {
  "kernelspec": {
   "display_name": "Python 3",
   "language": "python",
   "name": "python3"
  },
  "language_info": {
   "codemirror_mode": {
    "name": "ipython",
    "version": 3
   },
   "file_extension": ".py",
   "mimetype": "text/x-python",
   "name": "python",
   "nbconvert_exporter": "python",
   "pygments_lexer": "ipython3",
   "version": "3.7.4"
  }
 },
 "nbformat": 4,
 "nbformat_minor": 2
}
